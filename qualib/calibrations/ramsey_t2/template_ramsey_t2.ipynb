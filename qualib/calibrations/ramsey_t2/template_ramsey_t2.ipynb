{
 "cells": [
  {
   "cell_type": "markdown",
   "source": [
    "# Ramsey T2\r\n",
    "## T2 = {qubit_T2} µs"
   ],
   "metadata": {}
  },
  {
   "cell_type": "code",
   "execution_count": null,
   "source": [
    "f = h5py.File('{HDF5_PATH}', 'r', swmr=True)\r\n",
    "\r\n",
    "wait  = np.unique(f['data']['wait'][()])*4\r\n",
    "wait  = wait[wait>0]\r\n",
    "data1 = f['data']['I1'][()] + 1j * f['data']['Q1'][()]\r\n",
    "data2 = f['data']['I2'][()] + 1j * f['data']['Q2'][()]\r\n",
    "data  = data1-data2\r\n",
    "data  = IQ_rot(data[0])\r\n",
    "data /= np.max(np.abs(data))\r\n",
    "if data[0] < 0:\r\n",
    "    data *= -1\r\n",
    "\r\n",
    "f.close()\r\n",
    "\r\n",
    "def exp_decay(t, t2, delta, c):\r\n",
    "    t2 = np.abs(t2)\r\n",
    "    return np.exp(-t/t2) * np.cos(2*np.pi*t*np.abs(delta) + c)\r\n",
    "\r\n",
    "popt, pcov = opt.curve_fit(exp_decay, wait, np.real(data), ({T2}, max({DELTA}, 1e-5), 1e-5))\r\n",
    "print('t2, delta, c =', popt)\r\n",
    "\r\n",
    "fig, ax = plt.subplots()\r\n",
    "wait_fine = np.linspace(wait[0], wait[-1], int(1e3))\r\n",
    "\r\n",
    "ax.plot(wait, np.real(data), '.-')\r\n",
    "ax.plot(wait_fine, exp_decay(wait_fine, *popt), 'k--')\r\n",
    "ax.legend(('Data', f'Fit: T2 = {abs(popt[0])/1000:.1f}µs'));"
   ],
   "outputs": [],
   "metadata": {}
  },
  {
   "cell_type": "code",
   "execution_count": null,
   "source": [
    "_opt = popt[0]\r\n",
    "_cov = np.array([[pcov[0,0]]])\r\n",
    "_results = {'T2_qubit': abs(popt[0]/1000)}\r\n",
    "_results"
   ],
   "outputs": [],
   "metadata": {}
  }
 ],
 "metadata": {
  "kernelspec": {
   "display_name": "Python 3",
   "language": "python",
   "name": "python3"
  },
  "language_info": {
   "name": "python",
   "version": ""
  }
 },
 "nbformat": 4,
 "nbformat_minor": 4
}