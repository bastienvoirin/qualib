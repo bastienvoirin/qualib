{
 "cells": [
  {
   "cell_type": "markdown",
   "metadata": {},
   "source": [
    "## Calibration name (TYPE)\n",
    "### POST_PLACEHOLDER"
   ]
  },
  {
   "cell_type": "code",
   "execution_count": null,
   "metadata": {},
   "outputs": [],
   "source": [
    "f  = h5py.File('HDF5_PATH', 'r', swmr=True)\n",
    "pa = f['parameters']\n",
    "da = f['data']\n",
    "\n",
    "# get data"
   ]
  },
  {
   "cell_type": "code",
   "execution_count": null,
   "metadata": {},
   "outputs": [],
   "source": [
    "# curve fit\n",
    "\n",
    "popt, pcov = opt.curve_fit(function, xdata, ydata, guesses=(0, 1, 2))\n",
    "print(f'a, b, c = {popt}')"
   ]
  },
  {
   "cell_type": "code",
   "execution_count": null,
   "metadata": {},
   "outputs": [],
   "source": [
    "fig, ax = plt.subplots()\n",
    "ax.plot(xdata, ydata, '.-', label='Data')\n",
    "ax.plot(xdata, function(xdata, *popt), label=f'Fit: a = {popt[0]:f}')\n",
    "ax.legend();"
   ]
  },
  {
   "cell_type": "code",
   "execution_count": null,
   "metadata": {},
   "outputs": [],
   "source": [
    "#if 'STATE' == 'done':\n",
    "_opt = popt\n",
    "_cov = pcov\n",
    "_results = {'a': popt[0]}\n",
    "_results"
   ]
  }
 ],
 "metadata": {
  "kernelspec": {
   "display_name": "Python 3",
   "language": "python",
   "name": "python3"
  },
  "language_info": {
   "codemirror_mode": {
    "name": "ipython",
    "version": 3
   },
   "file_extension": ".py",
   "mimetype": "text/x-python",
   "name": "python",
   "nbconvert_exporter": "python",
   "pygments_lexer": "ipython3",
   "version": "3.8.6"
  }
 },
 "nbformat": 4,
 "nbformat_minor": 5
}