{
 "cells": [
  {
   "cell_type": "markdown",
   "source": [
    "# Spectro pulsé RO ({TYPE})\n",
    "## freq_LO = {FREQ} GHz"
   ],
   "metadata": {}
  },
  {
   "cell_type": "code",
   "execution_count": null,
   "source": [
    "f = h5py.File('{HDF5_PATH}', 'r', swmr=True)\r\n",
    "\r\n",
    "fr = f['parameters']['freq'][()]\r\n",
    "data = (f['data']['I'][()] + 1j*f['data']['Q'][()]) * np.exp(1j*fr*94*2*np.pi) # TODO: replace hardcoded value\r\n",
    "f.close()"
   ],
   "outputs": [],
   "metadata": {}
  },
  {
   "cell_type": "code",
   "execution_count": null,
   "source": [
    "#if '{TYPE}' == 'phase only':\r\n",
    "phi = np.unwrap(np.angle(data))\r\n",
    "phi = phi - (np.amin(phi)+np.amax(phi))/2"
   ],
   "outputs": [],
   "metadata": {}
  },
  {
   "cell_type": "code",
   "execution_count": null,
   "source": [
    "#if '{TYPE}' == 'phase only':\r\n",
    "def atan(fr, f0, a):\r\n",
    "    return 2*np.arctan(a*(fr-f0))\r\n",
    "\r\n",
    "popt, pcov = opt.curve_fit(atan, fr, phi, (5, 1))\r\n",
    "print('f0, a =', popt)\r\n",
    "\r\n",
    "fig, ax = plt.subplots()\r\n",
    "ax.plot(fr, phi, '.-')\r\n",
    "ax.plot(fr, atan(fr, *popt))\r\n",
    "ax.legend(('Data', f'Fit: f = {popt[0]:.6f} GHz'));"
   ],
   "outputs": [],
   "metadata": {}
  },
  {
   "cell_type": "code",
   "execution_count": null,
   "source": [
    "#if '{TYPE}' == 'phase only':\r\n",
    "fig, ax = plt.subplots()\r\n",
    "ax.plot(data.real, data.imag, '.-')\r\n",
    "plt.axis('equal');"
   ],
   "outputs": [],
   "metadata": {}
  },
  {
   "cell_type": "code",
   "execution_count": null,
   "source": [
    "#if '{TYPE}' == 'circle fit':\r\n",
    "import requests\r\n",
    "exec(requests.get('https://raw.githubusercontent.com/qkitgroup/qkit/78dc93cfa48fbca72b8e56ca7ea1b5c1665cbe1b/qkit/analysis/circle_fit/circle_fit_2019/circuit.py').text)"
   ],
   "outputs": [],
   "metadata": {}
  },
  {
   "cell_type": "code",
   "execution_count": null,
   "source": [
    "#if '{TYPE}' == 'circle fit':\r\n",
    "circ = reflection_port(fr, data)\r\n",
    "circ.autofit()\r\n",
    "fitres = circ.fitresults\r\n",
    "fitres"
   ],
   "outputs": [],
   "metadata": {}
  },
  {
   "cell_type": "code",
   "execution_count": null,
   "source": [
    "#if '{TYPE}' == 'circle fit' and '{STATE}' == '{STATE_POST_PROCESS}':\r\n",
    "print('circle_fit plots')\r\n",
    "fig, ax = plt.subplots()\r\n",
    "circ.plotall()"
   ],
   "outputs": [],
   "metadata": {}
  },
  {
   "cell_type": "code",
   "execution_count": null,
   "source": [
    "#if '{TYPE}' == 'circle fit':\r\n",
    "_err = {\r\n",
    "    'Circle fit failed (too large fr_err)': fitres['fr_err'] > fitres['fr']/fitres['Ql']\r\n",
    "}\r\n",
    "_err"
   ],
   "outputs": [],
   "metadata": {}
  },
  {
   "cell_type": "code",
   "execution_count": null,
   "source": [
    "#if '{TYPE}' == 'circle fit':\r\n",
    "_results = {\r\n",
    "    'freq':     fitres['fr'],\r\n",
    "    'fr_err':   fitres['fr_err'],\r\n",
    "    'delta_fr': fitres['fr']/fitres['Ql']\r\n",
    "}\r\n",
    "print(_results)"
   ],
   "outputs": [],
   "metadata": {}
  },
  {
   "cell_type": "code",
   "execution_count": null,
   "source": [
    "#if '{TYPE}' == 'phase only':\r\n",
    "_opt = popt\r\n",
    "_cov = pcov\r\n",
    "_results = {'freq': popt[0]}\r\n",
    "_results"
   ],
   "outputs": [],
   "metadata": {}
  }
 ],
 "metadata": {
  "kernelspec": {
   "display_name": "Python 3",
   "language": "python",
   "name": "python3"
  },
  "language_info": {
   "name": "python",
   "version": ""
  }
 },
 "nbformat": 4,
 "nbformat_minor": 5
}