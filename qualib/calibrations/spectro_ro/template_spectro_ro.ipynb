{
 "cells": [
  {
   "cell_type": "markdown",
   "metadata": {},
   "source": [
    "# Spectro pulsé RO ({TYPE})\n",
    "## freq_LO = {FREQ} GHz"
   ]
  },
  {
   "cell_type": "code",
   "execution_count": null,
   "metadata": {},
   "outputs": [],
   "source": [
    "f = h5py.File('HDF5_PATH', 'r', swmr=True)\n",
    "\n",
    "fr = f['parameters']['freq'][()]\n",
    "data = (f['data']['I'][()] + 1j*f['data']['Q'][()]) * np.exp(1j*fr*94*2*np.pi) # TODO: replace hardcoded value"
   ]
  },
  {
   "cell_type": "code",
   "execution_count": null,
   "metadata": {},
   "outputs": [],
   "source": [
    "#if 'TYPE' == 'phase only':\n",
    "phi = np.unwrap(np.angle(data))\n",
    "phi = phi - (np.amin(phi)+np.amax(phi))/2"
   ]
  },
  {
   "cell_type": "code",
   "execution_count": null,
   "metadata": {},
   "outputs": [],
   "source": [
    "#if 'TYPE' == 'phase only':\n",
    "fig, ax = plt.subplots()\n",
    "ax.plot(fr, phi, '.-', label='Data')\n",
    "ax.legend();"
   ]
  },
  {
   "cell_type": "code",
   "execution_count": null,
   "metadata": {},
   "outputs": [],
   "source": [
    "#if 'TYPE' == 'phase only':\n",
    "def atan(fr, f0, a):\n",
    "    return 2*np.arctan(a*(fr-f0))\n",
    "\n",
    "popt, pcov = opt.curve_fit(atan, fr, phi, (5, 1))\n",
    "print('f0, a =', popt)\n",
    "\n",
    "fig, ax = plt.subplots()\n",
    "ax.plot(fr, phi, '.-')\n",
    "ax.plot(fr, atan(fr, *popt))\n",
    "ax.legend(('Data', f'Fit: f = {popt[0]:.6f} GHz'));"
   ]
  },
  {
   "cell_type": "code",
   "execution_count": null,
   "metadata": {},
   "outputs": [],
   "source": [
    "#if 'TYPE' == 'phase only':\n",
    "fig, ax = plt.subplots()\n",
    "ax.plot(data.real, data.imag, '.-')\n",
    "plt.axis('equal');"
   ]
  },
  {
   "cell_type": "code",
   "execution_count": null,
   "metadata": {},
   "outputs": [],
   "source": [
    "#if 'TYPE' == 'circle fit':\n",
    "%run https://raw.githubusercontent.com/qkitgroup/qkit/78dc93cfa48fbca72b8e56ca7ea1b5c1665cbe1b/qkit/analysis/circle_fit/circle_fit_2019/circuit.py"
   ]
  },
  {
   "cell_type": "code",
   "execution_count": null,
   "metadata": {},
   "outputs": [],
   "source": [
    "#if 'TYPE' == 'circle fit':\n",
    "circ = reflection_port(fr, data)\n",
    "circ.autofit()\n",
    "fig, ax = plt.subplots()\n",
    "circ.plotall()\n",
    "fitres = circ.fitresults\n",
    "fitres"
   ]
  },
  {
   "cell_type": "code",
   "execution_count": null,
   "metadata": {},
   "outputs": [],
   "source": [
    "#if 'TYPE' == 'circle fit':\n",
    "_err = {\n",
    "    'Circle fit failed (too large fr_err)': fitres['fr_err'] > fitres['fr']/fitres['Ql']\n",
    "}\n",
    "_err"
   ]
  },
  {
   "cell_type": "code",
   "execution_count": null,
   "metadata": {},
   "outputs": [],
   "source": [
    "#if 'TYPE' == 'circle fit':\n",
    "_results = {\n",
    "    'freq':     fitres['fr'],\n",
    "    'fr_err':   fitres['fr_err'],\n",
    "    'delta_fr': fitres['fr']/fitres['Ql']\n",
    "}\n",
    "_results"
   ]
  },
  {
   "cell_type": "code",
   "execution_count": null,
   "metadata": {},
   "outputs": [],
   "source": [
    "#if 'TYPE' == 'phase only':\n",
    "_opt = popt\n",
    "_cov = pcov\n",
    "_results = {'freq': popt[0]}\n",
    "_results"
   ]
  }
 ],
 "metadata": {
  "kernelspec": {
   "display_name": "Python 3",
   "language": "python",
   "name": "python3"
  },
  "language_info": {
   "name": "python",
   "version": ""
  }
 },
 "nbformat": 4,
 "nbformat_minor": 5
}