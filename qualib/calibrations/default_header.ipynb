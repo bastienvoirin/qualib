{
 "cells": [
  {
   "cell_type": "markdown",
   "source": [
    "# Report\r\n",
    "\r\n",
    "Default header (`qualib/calibrations/default_header.ipynb`)"
   ],
   "metadata": {}
  },
  {
   "cell_type": "code",
   "execution_count": null,
   "source": [
    "%matplotlib notebook\r\n",
    "import os\r\n",
    "import h5py\r\n",
    "import numpy as np\r\n",
    "import matplotlib.pyplot as plt\r\n",
    "import matplotlib.gridspec as gridspec\r\n",
    "import matplotlib as mpl\r\n",
    "import matplotlib.animation as animation\r\n",
    "import matplotlib.colors as colors\r\n",
    "from mpl_toolkits.mplot3d import Axes3D \r\n",
    "import matplotlib.cm as cm\r\n",
    "import scipy as sc\r\n",
    "import scipy.optimize as opt\r\n",
    "import scipy.ndimage as sci\r\n",
    "import scipy.signal as scs\r\n",
    "import time\r\n",
    "from ipywidgets import interact, interactive, fixed, interact_manual\r\n",
    "import ipywidgets as widgets\r\n",
    "from mpl_toolkits.axes_grid1.inset_locator import inset_axes\r\n",
    "import scipy\r\n",
    "from qutip.wigner import qfunc, wigner\r\n",
    "import qutip"
   ],
   "outputs": [],
   "metadata": {}
  },
  {
   "cell_type": "code",
   "execution_count": null,
   "source": [
    "def IQ_rot(data):\r\n",
    "    dataf = data.flatten()\r\n",
    "    I = np.real(dataf)\r\n",
    "    Q = np.imag(dataf)\r\n",
    "    Cov = np.cov(I,Q)\r\n",
    "    A = scipy.linalg.eig(Cov)\r\n",
    "    eigvecs = A[1]\r\n",
    "    if A[0][1] > A[0][0]:\r\n",
    "        eigvec1 = eigvecs[:,0]\r\n",
    "    else:\r\n",
    "        eigvec1 = eigvecs[:,1]\r\n",
    "    theta = np.arctan(eigvec1[0]/eigvec1[1])\r\n",
    "    data_c = data * np.exp(1j*theta)\r\n",
    "    return data_c"
   ],
   "outputs": [],
   "metadata": {}
  },
  {
   "cell_type": "markdown",
   "source": [
    "## Maps"
   ],
   "metadata": {}
  },
  {
   "cell_type": "code",
   "execution_count": null,
   "source": [
    "import json\r\n",
    "with open('{JSON_LOG}.json') as file:\r\n",
    "    calibrations = json.load(file)\r\n",
    "    \r\n",
    "# freq = np.array([c['qubit']['freq'] for c in calibrations[::1]]) # replace 1 with the number of calibrations per value\r\n",
    "# # retrieve other parameters (flux, readout frequency, qubit T1, qubit T2, etc.)\r\n",
    "\r\n",
    "# fig, ax = plt.subplots()\r\n",
    "# ax.plot(freq);"
   ],
   "outputs": [],
   "metadata": {}
  }
 ],
 "metadata": {
  "kernelspec": {
   "display_name": "Python 3",
   "language": "python",
   "name": "python3"
  },
  "language_info": {
   "codemirror_mode": {
    "name": "ipython",
    "version": 3
   },
   "file_extension": ".py",
   "mimetype": "text/x-python",
   "name": "python",
   "nbconvert_exporter": "python",
   "pygments_lexer": "ipython3",
   "version": "3.8.6"
  }
 },
 "nbformat": 4,
 "nbformat_minor": 4
}