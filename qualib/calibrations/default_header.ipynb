{
 "cells": [
  {
   "cell_type": "markdown",
   "metadata": {},
   "source": [
    "# Report\n",
    "\n",
    "Default header (`qualib/calibrations/default_header.ipynb`)"
   ]
  },
  {
   "cell_type": "code",
   "execution_count": null,
   "metadata": {},
   "outputs": [],
   "source": [
    "%matplotlib widget\n",
    "import os\n",
    "import h5py\n",
    "import numpy as np\n",
    "import matplotlib.pyplot as plt\n",
    "import matplotlib.gridspec as gridspec\n",
    "import matplotlib as mpl\n",
    "import matplotlib.animation as animation\n",
    "import matplotlib.colors as colors\n",
    "from mpl_toolkits.mplot3d import Axes3D \n",
    "import matplotlib.cm as cm\n",
    "import scipy as sc\n",
    "import scipy.optimize as opt\n",
    "import scipy.ndimage as sci\n",
    "import scipy.signal as scs\n",
    "import time\n",
    "from ipywidgets import interact, interactive, fixed, interact_manual\n",
    "import ipywidgets as widgets\n",
    "from mpl_toolkits.axes_grid1.inset_locator import inset_axes\n",
    "import scipy\n",
    "from qutip.wigner import qfunc, wigner\n",
    "import qutip"
   ]
  },
  {
   "cell_type": "code",
   "execution_count": null,
   "metadata": {},
   "outputs": [],
   "source": [
    "def IQ_rot(data):\n",
    "    dataf = data.flatten()\n",
    "    I = np.real(dataf)\n",
    "    Q = np.imag(dataf)\n",
    "    Cov = np.cov(I,Q)\n",
    "    A = scipy.linalg.eig(Cov)\n",
    "    eigvecs = A[1]\n",
    "    if A[0][1] > A[0][0]:\n",
    "        eigvec1 = eigvecs[:,0]\n",
    "    else:\n",
    "        eigvec1 = eigvecs[:,1]\n",
    "    theta = np.arctan(eigvec1[0]/eigvec1[1])\n",
    "    data_c = data * np.exp(1j*theta)\n",
    "    return data_c"
   ]
  },
  {
   "cell_type": "markdown",
   "metadata": {},
   "source": [
    "## Maps"
   ]
  },
  {
   "cell_type": "code",
   "execution_count": null,
   "metadata": {},
   "outputs": [],
   "source": [
    "# import json\n",
    "# with open('{JSON_LOG}.json') as file:\n",
    "#     calibrations = json.load(file)\n",
    "    \n",
    "# freq = np.array([c['qubit']['freq'] for c in calibrations[::1]]) # replace 1 with the number of calibrations per value\n",
    "# # retrieve other parameters (flux, readout frequency, qubit T1, qubit T2, etc.)\n",
    "\n",
    "# fig, ax = plt.subplots()\n",
    "# ax.plot(freq);"
   ]
  }
 ],
 "metadata": {
  "kernelspec": {
   "display_name": "Python 3",
   "language": "python",
   "name": "python3"
  },
  "language_info": {
   "codemirror_mode": {
    "name": "ipython",
    "version": 3
   },
   "file_extension": ".py",
   "mimetype": "text/x-python",
   "name": "python",
   "nbconvert_exporter": "python",
   "pygments_lexer": "ipython3",
   "version": "3.8.6"
  }
 },
 "nbformat": 4,
 "nbformat_minor": 4
}
