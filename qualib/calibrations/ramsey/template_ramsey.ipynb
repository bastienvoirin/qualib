{
 "cells": [
  {
   "cell_type": "markdown",
   "metadata": {},
   "source": [
    "# Ramsey\n",
    "## f_LO = {f_LO} GHz\n",
    "## T2 = {T2} µs"
   ]
  },
  {
   "cell_type": "code",
   "execution_count": null,
   "metadata": {},
   "outputs": [],
   "source": [
    "f = h5py.File('HDF5_PATH', 'r', swmr=True)\n",
    "\n",
    "wait  = np.unique(f['data']['wait'][()])*4\n",
    "freq  = np.unique(f['parameters']['freq'])[()]\n",
    "data1 = f['data']['I1'][()] + 1j * f['data']['Q1'][()]\n",
    "data2 = f['data']['I2'][()] + 1j * f['data']['Q2'][()]\n",
    "data  = data1-data2\n",
    "data  = IQ_rot(data)\n",
    "\n",
    "f.close()\n",
    "\n",
    "def exp_all_freq(x, t2, f0, b, c):\n",
    "    t_arr = np.array(x[0])\n",
    "    f_arr = np.array(x[1])\n",
    "    t2 = np.abs(t2)\n",
    "    return b*(np.exp(-t_arr/t2)*np.cos(2*np.pi*t_arr*np.abs(f_arr-f0)+c))\n",
    "\n",
    "x, y  = np.meshgrid(wait, freq)\n",
    "xdata = np.vstack((x.ravel(), y.ravel()))\n",
    "ydata = np.real(data).ravel()\n",
    "\n",
    "popt, pcov = opt.curve_fit(exp_all_freq, xdata, ydata, (13e3, FREQ, 6e-5, 0.)) # TODO: compute these hardcoded values\n",
    "print('t2, f0, b, c =', popt)\n",
    "\n",
    "fig, ax = plt.subplots()\n",
    "wait_fine = np.linspace(wait[0], wait[-1], int(1e3))\n",
    "\n",
    "def up(fr):\n",
    "    ax.cla()\n",
    "    ax.plot(wait, np.real(data[fr]), '.-')\n",
    "    ax.plot(wait_fine, exp_all_freq((wait_fine,freq[fr]), *popt), 'k--')\n",
    "    ax.legend(('Data', f'Fit: T2 = {abs(popt[0])/1000:.1f}µs'))\n",
    "    \n",
    "interactive(up, fr = (0, len(freq)-1, 1))"
   ]
  },
  {
   "cell_type": "code",
   "execution_count": null,
   "metadata": {},
   "outputs": [],
   "source": [
    "_opt = popt\n",
    "_cov = pcov\n",
    "_results = {'f_LO': popt[1], 'T2': popt[0]}\n",
    "_results"
   ]
  }
 ],
 "metadata": {
  "kernelspec": {
   "display_name": "Python 3",
   "language": "python",
   "name": "python3"
  },
  "language_info": {
   "name": "python",
   "version": ""
  }
 },
 "nbformat": 4,
 "nbformat_minor": 4
}