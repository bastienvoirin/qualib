{
 "cells": [
  {
   "cell_type": "markdown",
   "source": [
    "# Spectro qubit ({TYPE})\n",
    "## freq = {FREQ} GHz"
   ],
   "metadata": {}
  },
  {
   "cell_type": "code",
   "execution_count": null,
   "source": [
    "f = h5py.File('{HDF5_PATH}', 'r', swmr=True)\r\n",
    "\r\n",
    "freq  = np.unique(f['parameters']['freq'])[()]\r\n",
    "data1 = f['data']['I1'][()] + 1j * f['data']['Q1'][()]\r\n",
    "data2 = f['data']['I2'][()] + 1j * f['data']['Q2'][()]\r\n",
    "data  = data1-data2\r\n",
    "data  = np.abs(IQ_rot(data))\r\n",
    "\r\n",
    "f.close()"
   ],
   "outputs": [],
   "metadata": {}
  },
  {
   "cell_type": "code",
   "execution_count": null,
   "source": [
    "b, a = sc.signal.butter(8, 250 / (0.5/(freq[1] - freq[0])))\r\n",
    "y = sc.signal.filtfilt(b, a, data, padlen=50)\r\n",
    "\r\n",
    "fig, ax = plt.subplots()\r\n",
    "ax.plot(freq, data)\r\n",
    "ax.plot(freq, y)"
   ],
   "outputs": [],
   "metadata": {}
  },
  {
   "cell_type": "code",
   "execution_count": null,
   "source": [
    "ratio = (data.max() - data.min()) / np.std(data)\r\n",
    "ratio"
   ],
   "outputs": [],
   "metadata": {}
  },
  {
   "cell_type": "code",
   "execution_count": null,
   "source": [
    "_err = {'No peak found': ratio < 0}\r\n",
    "_err"
   ],
   "outputs": [],
   "metadata": {}
  },
  {
   "cell_type": "code",
   "execution_count": null,
   "source": [
    "_results = {'freq': freq[np.argmax(y)]}\r\n",
    "print(_results)"
   ],
   "outputs": [],
   "metadata": {}
  }
 ],
 "metadata": {
  "kernelspec": {
   "display_name": "Python 3",
   "language": "python",
   "name": "python3"
  },
  "language_info": {
   "name": "python",
   "version": ""
  }
 },
 "nbformat": 4,
 "nbformat_minor": 5
}