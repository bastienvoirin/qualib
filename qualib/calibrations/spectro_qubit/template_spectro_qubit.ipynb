{
 "cells": [
  {
   "cell_type": "markdown",
   "id": "bc1a9268",
   "metadata": {},
   "source": [
    "# Spectro qubit (§TYPE§)\n",
    "## freq = §FREQ§ GHz"
   ]
  },
  {
   "cell_type": "code",
   "execution_count": null,
   "id": "eb818fc3",
   "metadata": {},
   "outputs": [],
   "source": [
    "f = h5py.File(HDF5_PATH, 'r', swmr=True)\n",
    "#print(f.keys())\n",
    "\n",
    "freq  = np.unique(f['parameters']['freq'])[()]\n",
    "data1 = f['data']['I1'][()] + 1j * f['data']['Q1'][()]\n",
    "data2 = f['data']['I2'][()] + 1j * f['data']['Q2'][()]\n",
    "data  = data1-data2\n",
    "#print(freq.shape)\n",
    "#print(data.shape)\n",
    "\n",
    "data = np.abs(IQ_rot(data))\n",
    "#print(data.shape)\n",
    "\n",
    "f.close()"
   ]
  },
  {
   "cell_type": "code",
   "execution_count": null,
   "id": "9cccaf3e",
   "metadata": {},
   "outputs": [],
   "source": [
    "b, a = sc.signal.butter(8, PULSE_LENGTH/8 / (0.5/(freq[1] - freq[0])))\n",
    "y = sc.signal.filtfilt(b, a, data, padlen=50)\n",
    "\n",
    "fig, ax = plt.subplots()\n",
    "ax.plot(freq, data)\n",
    "ax.plot(freq, y)"
   ]
  },
  {
   "cell_type": "code",
   "execution_count": null,
   "id": "1393e901",
   "metadata": {},
   "outputs": [],
   "source": [
    "ratio = (data.max() - data.min()) / np.std(data)\n",
    "ratio"
   ]
  },
  {
   "cell_type": "code",
   "execution_count": null,
   "id": "f68a2c8b",
   "metadata": {},
   "outputs": [],
   "source": [
    "_err = {'No peak found': ratio < 0}\n",
    "_err"
   ]
  },
  {
   "cell_type": "code",
   "execution_count": null,
   "id": "0f4748b7",
   "metadata": {},
   "outputs": [],
   "source": [
    "_results = {'freq': freq[np.argmax(y)]}\n",
    "_results"
   ]
  }
 ],
 "metadata": {
  "kernelspec": {
   "display_name": "Python 3",
   "language": "python",
   "name": "python3"
  },
  "language_info": {
   "codemirror_mode": {
    "name": "ipython",
    "version": 3
   },
   "file_extension": ".py",
   "mimetype": "text/x-python",
   "name": "python",
   "nbconvert_exporter": "python",
   "pygments_lexer": "ipython3",
   "version": "3.7.7"
  }
 },
 "nbformat": 4,
 "nbformat_minor": 5
}