{
 "cells": [
  {
   "cell_type": "markdown",
   "metadata": {},
   "source": [
    "# Spectro qubit ({TYPE})\n",
    "## freq = {FREQ} GHz"
   ]
  },
  {
   "cell_type": "code",
   "execution_count": null,
   "metadata": {},
   "outputs": [],
   "source": [
    "f = h5py.File('{HDF5_PATH}', 'r', swmr=True)\n",
    "\n",
    "freq  = np.unique(f['parameters']['freq'])[()]\n",
    "data1 = f['data']['I1'][()] + 1j * f['data']['Q1'][()]\n",
    "data2 = f['data']['I2'][()] + 1j * f['data']['Q2'][()]\n",
    "data  = data1-data2\n",
    "data  = np.abs(IQ_rot(data))\n",
    "\n",
    "f.close()"
   ]
  },
  {
   "cell_type": "code",
   "execution_count": null,
   "metadata": {},
   "outputs": [],
   "source": [
    "b, a = sc.signal.butter(8, 250 / (0.5/(freq[1] - freq[0])))\n",
    "y = sc.signal.filtfilt(b, a, data, padlen=50)\n",
    "\n",
    "fig, ax = plt.subplots()\n",
    "ax.plot(freq, data)\n",
    "ax.plot(freq, y)"
   ]
  },
  {
   "cell_type": "code",
   "execution_count": null,
   "metadata": {},
   "outputs": [],
   "source": [
    "ratio = (data.max() - data.min()) / np.std(data)\n",
    "ratio"
   ]
  },
  {
   "cell_type": "code",
   "execution_count": null,
   "metadata": {},
   "outputs": [],
   "source": [
    "_err = {'No peak found': ratio < 0}\n",
    "_err"
   ]
  },
  {
   "cell_type": "code",
   "execution_count": null,
   "metadata": {},
   "outputs": [],
   "source": [
    "_results = {'freq': freq[np.argmax(y)]}\n",
    "_results"
   ]
  }
 ],
 "metadata": {
  "kernelspec": {
   "display_name": "Python 3",
   "language": "python",
   "name": "python3"
  },
  "language_info": {
   "name": "python",
   "version": ""
  }
 },
 "nbformat": 4,
 "nbformat_minor": 5
}