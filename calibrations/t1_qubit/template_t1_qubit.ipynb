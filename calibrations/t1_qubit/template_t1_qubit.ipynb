{
 "cells": [
  {
   "cell_type": "markdown",
   "metadata": {},
   "source": [
    "## T1 qubit\n",
    "### T1 = §T1_QUBIT§µs"
   ]
  },
  {
   "cell_type": "code",
   "execution_count": null,
   "metadata": {},
   "outputs": [],
   "source": [
    "f.close()\n",
    "f = h5py.File(§HDF5_PATH§, 'r', swmr=True)\n",
    "\n",
    "wait  = np.unique(f['data']['wait'][()])*4\n",
    "data1 = (f['data']['I1'][()] + 1j * f['data']['Q1'][()])\n",
    "data2 = (f['data']['I2'][()] + 1j * f['data']['Q2'][()])\n",
    "data  = IQ_rot(data1-data2)\n",
    "\n",
    "print(data.size, 'points')\n",
    "f.close()\n",
    "\n",
    "def exp(t, t1, b, c):\n",
    "    t_arr = np.array(t)\n",
    "    return b*np.exp(-(t_arr)/t1)+c\n",
    "\n",
    "popt, pcov = opt.curve_fit(exp, wait, np.real(data), (6e3, 1, 0)) # TODO: compute these hardcoded values\n",
    "\n",
    "fig, ax = plt.subplots()\n",
    "ax.plot(wait, np.real(data), '.')\n",
    "ax.plot(wait, exp(wait, *popt))\n",
    "ax.legend(('Data', f'Fit: T1 = {popt[0]/1000:.3f}µs'))\n",
    "\n",
    "print(f't1, b, c = {popt}')\n",
    "result = {'t1_qubit': popt[0]}\n",
    "globals()['t1_qubit'] = result\n",
    "result"
   ]
  }
 ],
 "metadata": {
  "kernelspec": {
   "display_name": "Python 3",
   "language": "python",
   "name": "python3"
  },
  "language_info": {
   "codemirror_mode": {
    "name": "ipython",
    "version": 3
   },
   "file_extension": ".py",
   "mimetype": "text/x-python",
   "name": "python",
   "nbconvert_exporter": "python",
   "pygments_lexer": "ipython3",
   "version": "3.8.6"
  }
 },
 "nbformat": 4,
 "nbformat_minor": 5
}
