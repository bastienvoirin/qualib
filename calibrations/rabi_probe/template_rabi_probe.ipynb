{
 "cells": [
  {
   "cell_type": "markdown",
   "metadata": {},
   "source": [
    "## Rabi probe\n",
    "### §PULSE_LENGTH§ns, linearity amp limit at §LINEARITY_AMP_LIMIT§V"
   ]
  },
  {
   "cell_type": "code",
   "execution_count": null,
   "metadata": {},
   "outputs": [],
   "source": [
    "#f.close()\n",
    "f  = h5py.File(§HDF5_PATH§, 'r', swmr=True)\n",
    "pa = f['parameters']\n",
    "da = f['data']\n",
    "#f.close()\n",
    "\n",
    "amp   = da['amp'][()]\n",
    "data1 = da['I1'][()] + 1j * da['Q1'][()]\n",
    "data2 = da['I2'][()] + 1j * da['Q2'][()] \n",
    "data  = IQ_rot((data1 - data2))\n",
    "\n",
    "#fig, ax = plt.subplots()\n",
    "\n",
    "#ax.plot(center, freq)\n",
    "#ax.legend(('f'Freq: linearity_amp_limit = {amp_lim:f}'))\n",
    "\n",
    "result = {'linearity_amp_limit': 0.249}\n",
    "globals()['result'] = result\n",
    "result"
   ]
  }
 ],
 "metadata": {
  "kernelspec": {
   "display_name": "Python 3",
   "language": "python",
   "name": "python3"
  },
  "language_info": {
   "codemirror_mode": {
    "name": "ipython",
    "version": 3
   },
   "file_extension": ".py",
   "mimetype": "text/x-python",
   "name": "python",
   "nbconvert_exporter": "python",
   "pygments_lexer": "ipython3",
   "version": "3.8.6"
  }
 },
 "nbformat": 4,
 "nbformat_minor": 5
}
