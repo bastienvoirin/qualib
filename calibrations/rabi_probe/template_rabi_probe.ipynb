{
 "cells": [
  {
   "cell_type": "markdown",
   "metadata": {},
   "source": [
    "## Rabi probe\n",
    "### §PULSE_LENGTH§ns, linearity amp limit at §LINEARITY_AMP_LIMIT§V"
   ]
  },
  {
   "cell_type": "code",
   "execution_count": null,
   "metadata": {},
   "outputs": [],
   "source": [
    "#f.close()\n",
    "f  = h5py.File(§HDF5_PATH§, 'r', swmr=True)\n",
    "pa = f['parameters']\n",
    "da = f['data']\n",
    "#f.close()\n",
    "\n",
    "amp   = da['amp'][()]\n",
    "data1 = da['I1'][()] + 1j * da['Q1'][()]\n",
    "data2 = da['I2'][()] + 1j * da['Q2'][()] \n",
    "data  = IQ_rot((data1 - data2))\n",
    "\n",
    "#fig, ax = plt.subplots()\n",
    "#ax.plot(amp, data.real)\n",
    "\n",
    "# running FFT with {width} points\n",
    "#fig, ax = plt.subplots()\n",
    "width = 31\n",
    "half = int((width-1)/2)\n",
    "inv_rabi = []\n",
    "img = []\n",
    "fmin, fmax = None, None\n",
    "for center in range(half, amp.size-half):\n",
    "    sample = data.real[center-half:center+half+1]\n",
    "    # estimate a_rabi\n",
    "    rfft = np.abs(np.fft.rfft(sample - np.mean(sample)))\n",
    "    freq = np.fft.rfftfreq(sample.size, d=(amp[-1]-amp[0])/(amp.size-1))\n",
    "    inv_rabi.append(freq[np.argmax(rfft)])\n",
    "    #inv_rabi.append(np.average(freq, weights=rfft**10))\n",
    "    img.append(rfft)\n",
    "    fmin, fmax = freq[0], freq[-1]\n",
    "    #ax.plot(freq, rfft)\n",
    "\n",
    "ampl = amp[half:-half-1]\n",
    "ampc = amp[half:-half]\n",
    "ampr = amp[half+1:-half]\n",
    "diff = np.abs(np.diff(inv_rabi))\n",
    "ind  = np.where(diff >= np.amax(diff))\n",
    "liml = ampl[max(ind)][0]\n",
    "limr = ampr[max(ind)][0]\n",
    "amp_lim = (liml+limr)/2\n",
    "img = np.array(img).T[::-1,::]\n",
    "\n",
    "#fig, ax = plt.subplots()\n",
    "\n",
    "#ax.imshow(img, extent=[ampc[0], ampc[-1], fmin, fmax], alpha=0.25, aspect='auto')\n",
    "#ax.plot(ampc, inv_rabi)\n",
    "#ax.plot((ampl+ampr)/2, -diff)\n",
    "#ax.legend((f'1/a_rabi = f(amp)', f'Diff: linearity_amp_limit = {amp_lim:f}'))\n",
    "\n",
    "result = {'linearity_amp_limit': float(f'{amp_lim:f}')}\n",
    "globals()['result'] = result\n",
    "result"
   ]
  }
 ],
 "metadata": {
  "kernelspec": {
   "display_name": "Python 3",
   "language": "python",
   "name": "python3"
  },
  "language_info": {
   "codemirror_mode": {
    "name": "ipython",
    "version": 3
   },
   "file_extension": ".py",
   "mimetype": "text/x-python",
   "name": "python",
   "nbconvert_exporter": "python",
   "pygments_lexer": "ipython3",
   "version": "3.8.6"
  }
 },
 "nbformat": 4,
 "nbformat_minor": 5
}
