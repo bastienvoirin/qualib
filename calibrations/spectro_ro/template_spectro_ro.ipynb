{
 "cells": [
  {
   "cell_type": "markdown",
   "metadata": {},
   "source": [
    "# Spectro pulsé RO\n",
    "## freq_LO = §FREQ§GHz"
   ]
  },
  {
   "cell_type": "code",
   "execution_count": null,
   "metadata": {},
   "outputs": [],
   "source": [
    "f.close()\n",
    "f = h5py.File(§HDF5_PATH§, 'r')\n",
    "#print(f.keys())\n",
    "\n",
    "fr = f['parameters']['freq'][()]\n",
    "data = (f['data']['I'][()] + 1j*f['data']['Q'][()]) * np.exp(1j*fr*94*2*np.pi)\n",
    "f.close()\n",
    "#print(data.shape)\n",
    "\n",
    "phi = np.unwrap(np.angle(data))\n",
    "phi = phi-(np.amin(phi)+np.amax(phi))/2"
   ]
  },
  {
   "cell_type": "code",
   "execution_count": null,
   "metadata": {},
   "outputs": [],
   "source": [
    "def atan(fr, f0, a, b):\n",
    "    return a*np.arctan(b*(fr-f0))\n",
    "\n",
    "popt, pcov = opt.curve_fit(atan, fr, phi, (5, -2, 1))\n",
    "print('f0, a, b =', popt)\n",
    "\n",
    "fig, ax = plt.subplots()\n",
    "ax.plot(fr, phi, '.-')\n",
    "ax.plot(fr, atan(fr, *popt))\n",
    "ax.legend(('Data', f'Fit: f = {popt[0]:.6f} GHz'));"
   ]
  },
  {
   "cell_type": "code",
   "execution_count": null,
   "metadata": {},
   "outputs": [],
   "source": [
    "fig, ax = plt.subplots()\n",
    "ax.plot(data.real, data.imag, '.-')\n",
    "plt.axis('equal');"
   ]
  },
  {
   "cell_type": "code",
   "execution_count": null,
   "metadata": {},
   "outputs": [],
   "source": [
    "_opt = popt\n",
    "_cov = pcov\n",
    "_result = {'freq': popt[0]}\n",
    "_result"
   ]
  }
 ],
 "metadata": {
  "kernelspec": {
   "display_name": "Python 3",
   "language": "python",
   "name": "python3"
  },
  "language_info": {
   "codemirror_mode": {
    "name": "ipython",
    "version": 3
   },
   "file_extension": ".py",
   "mimetype": "text/x-python",
   "name": "python",
   "nbconvert_exporter": "python",
   "pygments_lexer": "ipython3",
   "version": "3.8.6"
  }
 },
 "nbformat": 4,
 "nbformat_minor": 5
}
