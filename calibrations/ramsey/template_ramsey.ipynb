{
 "cells": [
  {
   "cell_type": "markdown",
   "metadata": {},
   "source": [
    "# Ramsey\n",
    "## f_LO = §f_LO§ GHz\n",
    "## T2 = §T2§ µs"
   ]
  },
  {
   "cell_type": "code",
   "execution_count": null,
   "metadata": {},
   "outputs": [],
   "source": [
    "f = h5py.File(§HDF5_PATH§, 'r')\n",
    "#print(f.keys())\n",
    "\n",
    "wait  = np.unique(f['data']['wait'][()])*4\n",
    "freq  = np.unique(f['parameters']['freq'])[()]\n",
    "data1 = f['data']['I1'][()] + 1j * f['data']['Q1'][()]\n",
    "data2 = f['data']['I2'][()] + 1j * f['data']['Q2'][()]\n",
    "data  = data1-data2\n",
    "#print(freq.shape)\n",
    "#print(data.shape)\n",
    "\n",
    "data = IQ_rot(data)\n",
    "#print(data.shape)\n",
    "\n",
    "f.close()\n",
    "\n",
    "def exp_all_freq(x, t2, f0, b, c):\n",
    "    t_arr = np.array(x[0])\n",
    "    f_arr = np.array(x[1])\n",
    "    t2 = np.abs(t2)\n",
    "    return b*(np.exp(-t_arr/t2)*np.cos(2*np.pi*t_arr*np.abs(f_arr-f0)+c))\n",
    "\n",
    "x, y  = np.meshgrid(wait, freq)\n",
    "xdata = np.vstack((x.ravel(), y.ravel()))\n",
    "ydata = np.real(data).ravel()\n",
    "\n",
    "popt, pcov = opt.curve_fit(exp_all_freq, xdata, ydata, (13e3, 4.441, 6e-5, 0.)) # TODO: compute these hardcoded values\n",
    "print('t2, f0, b, c =', popt)\n",
    "\n",
    "fig, ax = plt.subplots()\n",
    "wait_fine = np.linspace(wait[0], wait[-1], int(1e3))\n",
    "\n",
    "def up(fr):\n",
    "    ax.cla()\n",
    "    ax.plot(wait, np.real(data[fr]), '.-')\n",
    "    ax.plot(wait_fine, exp_all_freq((wait_fine,freq[fr]), *popt), 'k--')\n",
    "    \n",
    "interactive(up, fr = (0, len(freq)-1, 1))"
   ]
  },
  {
   "cell_type": "code",
   "execution_count": null,
   "metadata": {},
   "outputs": [],
   "source": [
    "result = {'f_LO': 0, 'T2': 0} # TODO: replace these hardcoded values\n",
    "globals()['result'] = result\n",
    "result"
   ]
  }
 ],
 "metadata": {
  "kernelspec": {
   "display_name": "Python 3",
   "language": "python",
   "name": "python3"
  },
  "language_info": {
   "codemirror_mode": {
    "name": "ipython",
    "version": 3
   },
   "file_extension": ".py",
   "mimetype": "text/x-python",
   "name": "python",
   "nbconvert_exporter": "python",
   "pygments_lexer": "ipython3",
   "version": "3.8.6"
  }
 },
 "nbformat": 4,
 "nbformat_minor": 4
}
