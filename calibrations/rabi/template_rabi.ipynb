{
 "cells": [
  {
   "cell_type": "markdown",
   "metadata": {},
   "source": [
    "## Rabi (§TYPE§)\n",
    "### §PULSE_LENGTH§ns, pi in §PULSE_AMP§V"
   ]
  },
  {
   "cell_type": "code",
   "execution_count": null,
   "metadata": {},
   "outputs": [],
   "source": [
    "#f.close()\n",
    "f  = h5py.File(§HDF5_PATH§, 'r', swmr=True)\n",
    "pa = f['parameters']\n",
    "da = f['data']\n",
    "#f.close()\n",
    "\n",
    "amp   = da['amp'][()]\n",
    "data1 = da['I1'][()] + 1j * da['Q1'][()]\n",
    "data2 = da['I2'][()] + 1j * da['Q2'][()] \n",
    "data  = IQ_rot((data1 - data2))\n",
    "amp2  = np.linspace(amp[0], amp[-1], 1000)\n",
    "limit = §LINEARITY_AMP_LIMIT§\n",
    "\n",
    "def cosine(t, a_rabi, b, c):\n",
    "    t_arr = np.array(t)\n",
    "    return b*np.cos(2*np.pi*t_arr/a_rabi)+c\n",
    "\n",
    "# discard non-linear part (§LINEARITY_AMP_LIMIT§ is defined in assumptions.py)\n",
    "Nstop = np.amin(np.where(amp >= limit))\n",
    "\n",
    "# estimate a_rabi\n",
    "rfft = np.abs(np.fft.rfft(data.real - np.mean(data.real)))\n",
    "freq = np.fft.rfftfreq(data.real.size, d=(amp[-1]-amp[0])/(amp.size-1))\n",
    "rabi = 1/freq[np.argmax(rfft)]\n",
    "print(f'a_rabi ~ {rabi}')\n",
    "\n",
    "# plot FFT\n",
    "#fig, ax = plt.subplots()\n",
    "#ax.plot(freq[:freq.size//2], rfft[:freq.size//2])\n",
    "#ax.axvline(1/rabi, c='black', ls='--')\n",
    "#ax.legend(('FFT(data)', f'1/a_rabi = {1/rabi:f}\\na_rabi = {rabi:f}'))\n",
    "\n",
    "popt, pcov = opt.curve_fit(cosine, amp[:Nstop], np.real(data[:Nstop]), (rabi, 0, 0))\n",
    "\n",
    "print(f'a_rabi, b, c = {popt}')\n",
    "\n",
    "fig, ax = plt.subplots()\n",
    "\n",
    "ax.plot(amp, data.real, '.-', label='Data')\n",
    "ax.plot(amp2, cosine(amp2, *popt), 'r--')\n",
    "ax.plot(amp2[amp2 <= limit], cosine(amp2[amp2 <= limit], *popt), 'r-', label=f'Fit: a_rabi = {popt[0]:f}')\n",
    "ax.legend()\n",
    "\n",
    "_opt = popt\n",
    "_cov = pcov\n",
    "_result = {'a_rabi': popt[0]}\n",
    "_result"
   ]
  }
 ],
 "metadata": {
  "kernelspec": {
   "display_name": "Python 3",
   "language": "python",
   "name": "python3"
  },
  "language_info": {
   "codemirror_mode": {
    "name": "ipython",
    "version": 3
   },
   "file_extension": ".py",
   "mimetype": "text/x-python",
   "name": "python",
   "nbconvert_exporter": "python",
   "pygments_lexer": "ipython3",
   "version": "3.8.6"
  }
 },
 "nbformat": 4,
 "nbformat_minor": 5
}
