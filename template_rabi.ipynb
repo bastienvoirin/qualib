{
 "cells": [
  {
   "cell_type": "markdown",
   "metadata": {},
   "source": [
    "## Rabi (§TYPE§)\n",
    "### §PULSE_LENGTH§ns, pi in §PULSE_AMP§V"
   ]
  },
  {
   "cell_type": "code",
   "execution_count": null,
   "metadata": {},
   "outputs": [],
   "source": [
    "f = h5py.File(§HDF5_PATH§, 'r', swmr=True)\n",
    "pa = f['parameters']\n",
    "da = f['data']\n",
    "\n",
    "amp   = da['amp'][()]\n",
    "data1 = da['I1'][()] + 1j * da['Q1'][()]\n",
    "data2 = da['I2'][()] + 1j * da['Q2'][()] \n",
    "data  = IQ_rot((data1 - data2))\n",
    "amp2  = np.linspace(amp[0], amp[-1], 1000)\n",
    "\n",
    "def cosine(t, a_rabi, b, c):\n",
    "    t_arr = np.array(t)\n",
    "    return b*np.cos(2*np.pi*t_arr/a_rabi)+c\n",
    "\n",
    "Nstop = -40 # TODO: compute this hardcoded value (discard non-linear part)\n",
    "\n",
    "best_popt, best_pcov = opt.curve_fit(cosine, amp[:Nstop], np.real(data[:Nstop]), (amp[-1], 0, 0))\n",
    "for p in np.linspace(0.5, 20, 40): # 1/2 to 20 periods (step = 1/2)\n",
    "    popt, pcov = opt.curve_fit(cosine, amp[:Nstop], np.real(data[:Nstop]), (amp[-1]/p, 0, 0))\n",
    "    if (np.diag(pcov) < np.diag(best_pcov)).all():\n",
    "        best_popt = popt\n",
    "        best_pcov = pcov\n",
    "popt, pcov = best_popt, best_pcov\n",
    "\n",
    "fig, ax = plt.subplots()\n",
    "\n",
    "ax.plot(amp,  data.real)\n",
    "ax.plot(amp2, cosine(amp2, *popt))\n",
    "ax.legend(('Data', f'Fit: a_rabi = {popt[0]:f}'))\n",
    "\n",
    "print(f'a_rabi, b, c = {popt}')\n",
    "print(f'pcov = {np.diag(pcov)}')\n",
    "\n",
    "result = {'a_rabi': popt[0]}\n",
    "globals()['result'] = result\n",
    "result"
   ]
  }
 ],
 "metadata": {
  "kernelspec": {
   "display_name": "Python 3",
   "language": "python",
   "name": "python3"
  },
  "language_info": {
   "codemirror_mode": {
    "name": "ipython",
    "version": 3
   },
   "file_extension": ".py",
   "mimetype": "text/x-python",
   "name": "python",
   "nbconvert_exporter": "python",
   "pygments_lexer": "ipython3",
   "version": "3.8.6"
  }
 },
 "nbformat": 4,
 "nbformat_minor": 5
}
