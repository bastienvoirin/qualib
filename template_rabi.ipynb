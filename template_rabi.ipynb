{
 "cells": [
  {
   "cell_type": "markdown",
   "metadata": {},
   "source": [
    "## Rabi (§TYPE§)\n",
    "### §PULSE_LENGTH§ns, pi in §PULSE_AMP§V"
   ]
  },
  {
   "cell_type": "code",
   "execution_count": null,
   "metadata": {},
   "outputs": [],
   "source": [
    "f = h5py.File(§HDF5_PATH§, 'r', swmr=True)\n",
    "pa = f['parameters']\n",
    "da = f['data']\n",
    "\n",
    "amp   = da['amp'][()]\n",
    "data1 = da['I1'][()] + 1j * da['Q1'][()]\n",
    "data2 = da['I2'][()] + 1j * da['Q2'][()] \n",
    "data  = IQ_rot((data1 - data2))\n",
    "\n",
    "def cosine(t, a_rabi, b, c):\n",
    "    t_arr = np.array(t)\n",
    "    return b*np.cos(2*np.pi*t_arr/a_rabi)+c\n",
    "\n",
    "Nstop = -40 # TODO: compute this hardcoded value\n",
    "popt, pcov = opt.curve_fit(cosine, amp[:Nstop], np.real(data[:Nstop]), (amp[-1]*2, -12e-3, 0), maxfev = 100000)\n",
    "\n",
    "fig, ax = plt.subplots()\n",
    "\n",
    "ax.plot(amp, data.real)\n",
    "ax.plot(amp, cosine(amp, *popt))\n",
    "\n",
    "result = {'a_rabi': popt[0]}\n",
    "#TODO: add result to plot"
   ]
  }
 ],
 "metadata": {
  "kernelspec": {
   "display_name": "Python 3",
   "language": "python",
   "name": "python3"
  },
  "language_info": {
   "codemirror_mode": {
    "name": "ipython",
    "version": 3
   },
   "file_extension": ".py",
   "mimetype": "text/x-python",
   "name": "python",
   "nbconvert_exporter": "python",
   "pygments_lexer": "ipython3",
   "version": "3.8.6"
  }
 },
 "nbformat": 4,
 "nbformat_minor": 5
}